{
 "cells": [
  {
   "cell_type": "code",
   "execution_count": 1,
   "id": "05e79e08",
   "metadata": {},
   "outputs": [
    {
     "name": "stderr",
     "output_type": "stream",
     "text": [
      "2023-01-05 21:17:17.625340: I tensorflow/stream_executor/platform/default/dso_loader.cc:53] Successfully opened dynamic library libcudart.so.11.0\n",
      "2023-01-05 21:17:19.619348: I tensorflow/stream_executor/platform/default/dso_loader.cc:53] Successfully opened dynamic library libcuda.so.1\n",
      "2023-01-05 21:17:19.708891: I tensorflow/stream_executor/cuda/cuda_gpu_executor.cc:937] successful NUMA node read from SysFS had negative value (-1), but there must be at least one NUMA node, so returning NUMA node zero\n",
      "2023-01-05 21:17:19.709272: I tensorflow/core/common_runtime/gpu/gpu_device.cc:1733] Found device 0 with properties: \n",
      "pciBusID: 0000:01:00.0 name: NVIDIA GeForce GTX 1650 computeCapability: 7.5\n",
      "coreClock: 1.56GHz coreCount: 16 deviceMemorySize: 3.82GiB deviceMemoryBandwidth: 119.24GiB/s\n",
      "2023-01-05 21:17:19.709302: I tensorflow/stream_executor/platform/default/dso_loader.cc:53] Successfully opened dynamic library libcudart.so.11.0\n",
      "2023-01-05 21:17:19.713140: I tensorflow/stream_executor/platform/default/dso_loader.cc:53] Successfully opened dynamic library libcublas.so.11\n",
      "2023-01-05 21:17:19.713195: I tensorflow/stream_executor/platform/default/dso_loader.cc:53] Successfully opened dynamic library libcublasLt.so.11\n",
      "2023-01-05 21:17:19.714348: I tensorflow/stream_executor/platform/default/dso_loader.cc:53] Successfully opened dynamic library libcufft.so.10\n",
      "2023-01-05 21:17:19.714618: I tensorflow/stream_executor/platform/default/dso_loader.cc:53] Successfully opened dynamic library libcurand.so.10\n",
      "2023-01-05 21:17:19.717963: I tensorflow/stream_executor/platform/default/dso_loader.cc:53] Successfully opened dynamic library libcusolver.so.11\n",
      "2023-01-05 21:17:19.718686: I tensorflow/stream_executor/platform/default/dso_loader.cc:53] Successfully opened dynamic library libcusparse.so.11\n",
      "2023-01-05 21:17:19.718812: I tensorflow/stream_executor/platform/default/dso_loader.cc:53] Successfully opened dynamic library libcudnn.so.8\n",
      "2023-01-05 21:17:19.718914: I tensorflow/stream_executor/cuda/cuda_gpu_executor.cc:937] successful NUMA node read from SysFS had negative value (-1), but there must be at least one NUMA node, so returning NUMA node zero\n",
      "2023-01-05 21:17:19.719224: I tensorflow/stream_executor/cuda/cuda_gpu_executor.cc:937] successful NUMA node read from SysFS had negative value (-1), but there must be at least one NUMA node, so returning NUMA node zero\n",
      "2023-01-05 21:17:19.719758: I tensorflow/core/common_runtime/gpu/gpu_device.cc:1871] Adding visible gpu devices: 0\n"
     ]
    }
   ],
   "source": [
    "import numpy as np\n",
    "import tensorflow as tf\n",
    "gpu = tf.config.experimental.list_physical_devices('GPU')[0]\n",
    "tf.config.experimental.set_memory_growth(gpu, True)\n",
    "import matplotlib.pyplot as plt"
   ]
  },
  {
   "cell_type": "code",
   "execution_count": 2,
   "id": "23680169",
   "metadata": {},
   "outputs": [],
   "source": [
    "(train_images, train_labels), (test_images, test_labels) = tf.keras.datasets.cifar10.load_data()\n",
    "\n",
    "# Normalize pixel values to be between 0 and 1\n",
    "train_images, test_images = train_images[:10000] / 255.0, test_images[:10000] / 255.0"
   ]
  },
  {
   "cell_type": "code",
   "execution_count": 3,
   "id": "70234f5c",
   "metadata": {},
   "outputs": [],
   "source": [
    "train_labels = tf.keras.utils.to_categorical(train_labels)[:10000]\n",
    "test_labels = tf.keras.utils.to_categorical(test_labels)[:10000]"
   ]
  },
  {
   "cell_type": "code",
   "execution_count": 4,
   "id": "c9c05b13",
   "metadata": {},
   "outputs": [
    {
     "data": {
      "text/plain": [
       "((10000, 32, 32, 3), (10000, 10))"
      ]
     },
     "execution_count": 4,
     "metadata": {},
     "output_type": "execute_result"
    }
   ],
   "source": [
    "train_images.shape, train_labels.shape"
   ]
  },
  {
   "cell_type": "code",
   "execution_count": 5,
   "id": "4bd1cbb8",
   "metadata": {},
   "outputs": [
    {
     "name": "stderr",
     "output_type": "stream",
     "text": [
      "2023-01-05 21:17:32.392570: I tensorflow/core/platform/cpu_feature_guard.cc:142] This TensorFlow binary is optimized with oneAPI Deep Neural Network Library (oneDNN) to use the following CPU instructions in performance-critical operations:  AVX2 FMA\n",
      "To enable them in other operations, rebuild TensorFlow with the appropriate compiler flags.\n",
      "2023-01-05 21:17:32.393112: I tensorflow/stream_executor/cuda/cuda_gpu_executor.cc:937] successful NUMA node read from SysFS had negative value (-1), but there must be at least one NUMA node, so returning NUMA node zero\n",
      "2023-01-05 21:17:32.393417: I tensorflow/core/common_runtime/gpu/gpu_device.cc:1733] Found device 0 with properties: \n",
      "pciBusID: 0000:01:00.0 name: NVIDIA GeForce GTX 1650 computeCapability: 7.5\n",
      "coreClock: 1.56GHz coreCount: 16 deviceMemorySize: 3.82GiB deviceMemoryBandwidth: 119.24GiB/s\n",
      "2023-01-05 21:17:32.393524: I tensorflow/stream_executor/cuda/cuda_gpu_executor.cc:937] successful NUMA node read from SysFS had negative value (-1), but there must be at least one NUMA node, so returning NUMA node zero\n",
      "2023-01-05 21:17:32.393810: I tensorflow/stream_executor/cuda/cuda_gpu_executor.cc:937] successful NUMA node read from SysFS had negative value (-1), but there must be at least one NUMA node, so returning NUMA node zero\n",
      "2023-01-05 21:17:32.394000: I tensorflow/core/common_runtime/gpu/gpu_device.cc:1871] Adding visible gpu devices: 0\n",
      "2023-01-05 21:17:32.394379: I tensorflow/stream_executor/platform/default/dso_loader.cc:53] Successfully opened dynamic library libcudart.so.11.0\n",
      "2023-01-05 21:17:33.372065: I tensorflow/core/common_runtime/gpu/gpu_device.cc:1258] Device interconnect StreamExecutor with strength 1 edge matrix:\n",
      "2023-01-05 21:17:33.372091: I tensorflow/core/common_runtime/gpu/gpu_device.cc:1264]      0 \n",
      "2023-01-05 21:17:33.372098: I tensorflow/core/common_runtime/gpu/gpu_device.cc:1277] 0:   N \n",
      "2023-01-05 21:17:33.372237: I tensorflow/stream_executor/cuda/cuda_gpu_executor.cc:937] successful NUMA node read from SysFS had negative value (-1), but there must be at least one NUMA node, so returning NUMA node zero\n",
      "2023-01-05 21:17:33.372425: I tensorflow/stream_executor/cuda/cuda_gpu_executor.cc:937] successful NUMA node read from SysFS had negative value (-1), but there must be at least one NUMA node, so returning NUMA node zero\n",
      "2023-01-05 21:17:33.372586: I tensorflow/stream_executor/cuda/cuda_gpu_executor.cc:937] successful NUMA node read from SysFS had negative value (-1), but there must be at least one NUMA node, so returning NUMA node zero\n",
      "2023-01-05 21:17:33.372724: I tensorflow/core/common_runtime/gpu/gpu_device.cc:1418] Created TensorFlow device (/job:localhost/replica:0/task:0/device:GPU:0 with 2643 MB memory) -> physical GPU (device: 0, name: NVIDIA GeForce GTX 1650, pci bus id: 0000:01:00.0, compute capability: 7.5)\n"
     ]
    }
   ],
   "source": [
    "input_layer = tf.keras.layers.Input(shape=(32,32,3), name='input')\n",
    "conv_1 = tf.keras.layers.Conv2D(32, (3,3), name='conv_1')(input_layer)\n",
    "max_pool_1 = tf.keras.layers.MaxPooling2D((2,2), name='max_pool_1')(conv_1)\n",
    "conv_2 = tf.keras.layers.Conv2D(64, (3,3), name='conv_2')(max_pool_1)\n",
    "max_pool_2 = tf.keras.layers.MaxPooling2D((2,2), name='max_pool_2')(conv_2)\n",
    "conv_3 = tf.keras.layers.Conv2D(64, (3,3), name='conv_3')(max_pool_2)\n",
    "gap = tf.keras.layers.GlobalAveragePooling2D(name=\"gap\")(conv_3)\n",
    "dense_1 = tf.keras.layers.Dense(64, activation =\"relu\", name=\"dense_1\")(gap)\n",
    "out = tf.keras.layers.Dense(10, activation =\"softmax\", name=\"output\")(dense_1)\n",
    "model = tf.keras.models.Model(input_layer, out)"
   ]
  },
  {
   "cell_type": "code",
   "execution_count": 6,
   "id": "e95c9b97",
   "metadata": {},
   "outputs": [
    {
     "name": "stdout",
     "output_type": "stream",
     "text": [
      "Model: \"model\"\n",
      "_________________________________________________________________\n",
      "Layer (type)                 Output Shape              Param #   \n",
      "=================================================================\n",
      "input (InputLayer)           [(None, 32, 32, 3)]       0         \n",
      "_________________________________________________________________\n",
      "conv_1 (Conv2D)              (None, 30, 30, 32)        896       \n",
      "_________________________________________________________________\n",
      "max_pool_1 (MaxPooling2D)    (None, 15, 15, 32)        0         \n",
      "_________________________________________________________________\n",
      "conv_2 (Conv2D)              (None, 13, 13, 64)        18496     \n",
      "_________________________________________________________________\n",
      "max_pool_2 (MaxPooling2D)    (None, 6, 6, 64)          0         \n",
      "_________________________________________________________________\n",
      "conv_3 (Conv2D)              (None, 4, 4, 64)          36928     \n",
      "_________________________________________________________________\n",
      "gap (GlobalAveragePooling2D) (None, 64)                0         \n",
      "_________________________________________________________________\n",
      "dense_1 (Dense)              (None, 64)                4160      \n",
      "_________________________________________________________________\n",
      "output (Dense)               (None, 10)                650       \n",
      "=================================================================\n",
      "Total params: 61,130\n",
      "Trainable params: 61,130\n",
      "Non-trainable params: 0\n",
      "_________________________________________________________________\n"
     ]
    }
   ],
   "source": [
    "model.summary()"
   ]
  },
  {
   "cell_type": "code",
   "execution_count": 7,
   "id": "b3512518",
   "metadata": {},
   "outputs": [],
   "source": [
    "optimizer = tf.keras.optimizers.Adam()\n",
    "\n",
    "loss_fn = tf.keras.losses.CategoricalCrossentropy()\n",
    "\n",
    "train_acc_metric = tf.keras.metrics.CategoricalAccuracy()"
   ]
  },
  {
   "cell_type": "code",
   "execution_count": 8,
   "id": "25c34c61",
   "metadata": {},
   "outputs": [
    {
     "name": "stderr",
     "output_type": "stream",
     "text": [
      "2023-01-05 21:17:36.473070: W tensorflow/core/framework/cpu_allocator_impl.cc:80] Allocation of 245760000 exceeds 10% of free system memory.\n",
      "2023-01-05 21:17:36.773059: W tensorflow/core/framework/cpu_allocator_impl.cc:80] Allocation of 245760000 exceeds 10% of free system memory.\n"
     ]
    }
   ],
   "source": [
    "batch_size = 16\n",
    "\n",
    "train_dataset = tf.data.Dataset.from_tensor_slices((train_images, train_labels))\n",
    "train_dataset = train_dataset.shuffle(buffer_size=1024).batch(batch_size)\n",
    "\n",
    "\n",
    "val_dataset = tf.data.Dataset.from_tensor_slices((test_images, test_labels))\n",
    "val_dataset = val_dataset.batch(batch_size)"
   ]
  },
  {
   "cell_type": "code",
   "execution_count": 9,
   "id": "7c192e67",
   "metadata": {},
   "outputs": [
    {
     "name": "stderr",
     "output_type": "stream",
     "text": [
      "2023-01-05 21:17:53.560613: W tensorflow/core/framework/cpu_allocator_impl.cc:80] Allocation of 245760000 exceeds 10% of free system memory.\n",
      "2023-01-05 21:17:53.727468: I tensorflow/stream_executor/platform/default/dso_loader.cc:53] Successfully opened dynamic library libcudnn.so.8\n",
      "2023-01-05 21:17:54.164268: I tensorflow/stream_executor/cuda/cuda_dnn.cc:359] Loaded cuDNN version 8100\n",
      "2023-01-05 21:17:54.893602: I tensorflow/stream_executor/platform/default/dso_loader.cc:53] Successfully opened dynamic library libcublas.so.11\n",
      "2023-01-05 21:17:55.657438: I tensorflow/stream_executor/platform/default/dso_loader.cc:53] Successfully opened dynamic library libcublasLt.so.11\n"
     ]
    },
    {
     "name": "stdout",
     "output_type": "stream",
     "text": [
      "Training loss (for one batch) at step 0: 2.2126\n",
      "Seen so far: 16 samples\n",
      "Training loss (for one batch) at step 200: 1.7790\n",
      "Seen so far: 3216 samples\n",
      "Training loss (for one batch) at step 400: 1.6179\n",
      "Seen so far: 6416 samples\n",
      "Training loss (for one batch) at step 600: 1.6518\n",
      "Seen so far: 9616 samples\n",
      "Training acc over epoch 1: 0.28060001134872437\n",
      "Training loss (for one batch) at step 0: 1.6516\n",
      "Seen so far: 16 samples\n"
     ]
    },
    {
     "name": "stderr",
     "output_type": "stream",
     "text": [
      "2023-01-05 21:18:01.766506: W tensorflow/core/framework/cpu_allocator_impl.cc:80] Allocation of 245760000 exceeds 10% of free system memory.\n"
     ]
    },
    {
     "name": "stdout",
     "output_type": "stream",
     "text": [
      "Training loss (for one batch) at step 200: 1.7255\n",
      "Seen so far: 3216 samples\n",
      "Training loss (for one batch) at step 400: 1.6246\n",
      "Seen so far: 6416 samples\n",
      "Training loss (for one batch) at step 600: 1.5017\n",
      "Seen so far: 9616 samples\n",
      "Training acc over epoch 2: 0.41780000925064087\n",
      "Training loss (for one batch) at step 0: 1.7615\n",
      "Seen so far: 16 samples\n"
     ]
    },
    {
     "name": "stderr",
     "output_type": "stream",
     "text": [
      "2023-01-05 21:18:07.529889: W tensorflow/core/framework/cpu_allocator_impl.cc:80] Allocation of 245760000 exceeds 10% of free system memory.\n"
     ]
    },
    {
     "name": "stdout",
     "output_type": "stream",
     "text": [
      "Training loss (for one batch) at step 200: 1.5431\n",
      "Seen so far: 3216 samples\n",
      "Training loss (for one batch) at step 400: 1.6859\n",
      "Seen so far: 6416 samples\n",
      "Training loss (for one batch) at step 600: 1.4620\n",
      "Seen so far: 9616 samples\n",
      "Training acc over epoch 3: 0.4659999907016754\n",
      "Training loss (for one batch) at step 0: 1.5691\n",
      "Seen so far: 16 samples\n",
      "Training loss (for one batch) at step 200: 1.6399\n",
      "Seen so far: 3216 samples\n",
      "Training loss (for one batch) at step 400: 1.3560\n",
      "Seen so far: 6416 samples\n",
      "Training loss (for one batch) at step 600: 1.0494\n",
      "Seen so far: 9616 samples\n",
      "Training acc over epoch 4: 0.5020999908447266\n",
      "Training loss (for one batch) at step 0: 1.3056\n",
      "Seen so far: 16 samples\n",
      "Training loss (for one batch) at step 200: 1.2956\n",
      "Seen so far: 3216 samples\n",
      "Training loss (for one batch) at step 400: 1.2165\n",
      "Seen so far: 6416 samples\n",
      "Training loss (for one batch) at step 600: 1.3845\n",
      "Seen so far: 9616 samples\n",
      "Training acc over epoch 5: 0.5299000144004822\n",
      "Training loss (for one batch) at step 0: 0.9561\n",
      "Seen so far: 16 samples\n",
      "Training loss (for one batch) at step 200: 1.8222\n",
      "Seen so far: 3216 samples\n",
      "Training loss (for one batch) at step 400: 1.2486\n",
      "Seen so far: 6416 samples\n",
      "Training loss (for one batch) at step 600: 1.4134\n",
      "Seen so far: 9616 samples\n",
      "Training acc over epoch 6: 0.5478000044822693\n",
      "Training loss (for one batch) at step 0: 1.6621\n",
      "Seen so far: 16 samples\n",
      "Training loss (for one batch) at step 200: 2.0086\n",
      "Seen so far: 3216 samples\n",
      "Training loss (for one batch) at step 400: 1.4997\n",
      "Seen so far: 6416 samples\n",
      "Training loss (for one batch) at step 600: 0.9184\n",
      "Seen so far: 9616 samples\n",
      "Training acc over epoch 7: 0.5612999796867371\n",
      "Training loss (for one batch) at step 0: 1.1460\n",
      "Seen so far: 16 samples\n",
      "Training loss (for one batch) at step 200: 0.9856\n",
      "Seen so far: 3216 samples\n",
      "Training loss (for one batch) at step 400: 1.2095\n",
      "Seen so far: 6416 samples\n",
      "Training loss (for one batch) at step 600: 1.3416\n",
      "Seen so far: 9616 samples\n",
      "Training acc over epoch 8: 0.5831999778747559\n",
      "Training loss (for one batch) at step 0: 0.9349\n",
      "Seen so far: 16 samples\n",
      "Training loss (for one batch) at step 200: 1.0099\n",
      "Seen so far: 3216 samples\n",
      "Training loss (for one batch) at step 400: 1.0532\n",
      "Seen so far: 6416 samples\n",
      "Training loss (for one batch) at step 600: 1.4471\n",
      "Seen so far: 9616 samples\n",
      "Training acc over epoch 9: 0.5934000015258789\n",
      "Training loss (for one batch) at step 0: 0.9749\n",
      "Seen so far: 16 samples\n",
      "Training loss (for one batch) at step 200: 1.2683\n",
      "Seen so far: 3216 samples\n",
      "Training loss (for one batch) at step 400: 0.7049\n",
      "Seen so far: 6416 samples\n",
      "Training loss (for one batch) at step 600: 1.2982\n",
      "Seen so far: 9616 samples\n",
      "Training acc over epoch 10: 0.6050999760627747\n",
      "Training loss (for one batch) at step 0: 1.1209\n",
      "Seen so far: 16 samples\n",
      "Training loss (for one batch) at step 200: 0.7441\n",
      "Seen so far: 3216 samples\n",
      "Training loss (for one batch) at step 400: 1.2475\n",
      "Seen so far: 6416 samples\n",
      "Training loss (for one batch) at step 600: 0.8254\n",
      "Seen so far: 9616 samples\n",
      "Training acc over epoch 11: 0.6269999742507935\n",
      "Training loss (for one batch) at step 0: 1.3042\n",
      "Seen so far: 16 samples\n",
      "Training loss (for one batch) at step 200: 0.9590\n",
      "Seen so far: 3216 samples\n",
      "Training loss (for one batch) at step 400: 1.0254\n",
      "Seen so far: 6416 samples\n",
      "Training loss (for one batch) at step 600: 1.1318\n",
      "Seen so far: 9616 samples\n",
      "Training acc over epoch 12: 0.6319000124931335\n",
      "Training loss (for one batch) at step 0: 1.0024\n",
      "Seen so far: 16 samples\n",
      "Training loss (for one batch) at step 200: 1.0386\n",
      "Seen so far: 3216 samples\n",
      "Training loss (for one batch) at step 400: 0.8697\n",
      "Seen so far: 6416 samples\n",
      "Training loss (for one batch) at step 600: 0.6961\n",
      "Seen so far: 9616 samples\n",
      "Training acc over epoch 13: 0.6420999765396118\n",
      "Training loss (for one batch) at step 0: 0.9861\n",
      "Seen so far: 16 samples\n",
      "Training loss (for one batch) at step 200: 1.2784\n",
      "Seen so far: 3216 samples\n",
      "Training loss (for one batch) at step 400: 0.9711\n",
      "Seen so far: 6416 samples\n",
      "Training loss (for one batch) at step 600: 1.3001\n",
      "Seen so far: 9616 samples\n",
      "Training acc over epoch 14: 0.6467999815940857\n",
      "Training loss (for one batch) at step 0: 0.6053\n",
      "Seen so far: 16 samples\n",
      "Training loss (for one batch) at step 200: 0.7418\n",
      "Seen so far: 3216 samples\n",
      "Training loss (for one batch) at step 400: 0.9738\n",
      "Seen so far: 6416 samples\n",
      "Training loss (for one batch) at step 600: 0.9608\n",
      "Seen so far: 9616 samples\n",
      "Training acc over epoch 15: 0.6571999788284302\n",
      "Training loss (for one batch) at step 0: 1.0192\n",
      "Seen so far: 16 samples\n",
      "Training loss (for one batch) at step 200: 0.6688\n",
      "Seen so far: 3216 samples\n",
      "Training loss (for one batch) at step 400: 1.0342\n",
      "Seen so far: 6416 samples\n",
      "Training loss (for one batch) at step 600: 0.7872\n",
      "Seen so far: 9616 samples\n",
      "Training acc over epoch 16: 0.670199990272522\n",
      "Training loss (for one batch) at step 0: 0.9243\n",
      "Seen so far: 16 samples\n",
      "Training loss (for one batch) at step 200: 0.8066\n",
      "Seen so far: 3216 samples\n",
      "Training loss (for one batch) at step 400: 1.3934\n",
      "Seen so far: 6416 samples\n",
      "Training loss (for one batch) at step 600: 1.0357\n",
      "Seen so far: 9616 samples\n",
      "Training acc over epoch 17: 0.6780999898910522\n",
      "Training loss (for one batch) at step 0: 0.6120\n",
      "Seen so far: 16 samples\n",
      "Training loss (for one batch) at step 200: 1.1869\n",
      "Seen so far: 3216 samples\n",
      "Training loss (for one batch) at step 400: 1.3807\n",
      "Seen so far: 6416 samples\n",
      "Training loss (for one batch) at step 600: 1.1275\n",
      "Seen so far: 9616 samples\n",
      "Training acc over epoch 18: 0.6850000023841858\n",
      "Training loss (for one batch) at step 0: 1.0985\n",
      "Seen so far: 16 samples\n",
      "Training loss (for one batch) at step 200: 0.9029\n",
      "Seen so far: 3216 samples\n",
      "Training loss (for one batch) at step 400: 1.2058\n",
      "Seen so far: 6416 samples\n",
      "Training loss (for one batch) at step 600: 0.7189\n",
      "Seen so far: 9616 samples\n",
      "Training acc over epoch 19: 0.7013999819755554\n",
      "Training loss (for one batch) at step 0: 0.9385\n",
      "Seen so far: 16 samples\n",
      "Training loss (for one batch) at step 200: 1.1002\n",
      "Seen so far: 3216 samples\n",
      "Training loss (for one batch) at step 400: 1.1554\n",
      "Seen so far: 6416 samples\n",
      "Training loss (for one batch) at step 600: 0.7357\n",
      "Seen so far: 9616 samples\n",
      "Training acc over epoch 20: 0.7059000134468079\n"
     ]
    }
   ],
   "source": [
    "epochs = 20\n",
    "for epoch in range(epochs):\n",
    "    for step, (x_batch_train, y_batch_train) in enumerate(train_dataset):\n",
    "\n",
    "        with tf.GradientTape() as tape:\n",
    "            logits = model(x_batch_train, training=True)\n",
    "            loss_value = loss_fn(y_batch_train, logits)\n",
    "        grads = tape.gradient(loss_value, model.trainable_weights)\n",
    "        optimizer.apply_gradients(zip(grads, model.trainable_weights))\n",
    "        train_acc_metric.update_state(y_batch_train, logits)\n",
    "        # Log every 200 batches.\n",
    "        if step % 200 == 0:\n",
    "            print(\n",
    "                \"Training loss (for one batch) at step %d: %.4f\"\n",
    "                % (step, float(loss_value))\n",
    "            )\n",
    "            print(\"Seen so far: %s samples\" % ((step + 1) * batch_size))\n",
    "    train_acc = train_acc_metric.result()\n",
    "    print(f\"Training acc over epoch {epoch+1}: {float(train_acc)}\")\n",
    "    # Reset training metrics at the end of each epoch\n",
    "    train_acc_metric.reset_states()"
   ]
  },
  {
   "cell_type": "code",
   "execution_count": 24,
   "id": "95fb5032",
   "metadata": {},
   "outputs": [
    {
     "data": {
      "text/plain": [
       "<matplotlib.image.AxesImage at 0x7fb39032ed30>"
      ]
     },
     "execution_count": 24,
     "metadata": {},
     "output_type": "execute_result"
    },
    {
     "data": {
      "image/png": "[encoded data removed]",
      "text/plain": [
       "<Figure size 640x480 with 1 Axes>"
      ]
     },
     "metadata": {},
     "output_type": "display_data"
    }
   ],
   "source": [
    "plt.imshow(train_images[45])"
   ]
  },
  {
   "cell_type": "code",
   "execution_count": 25,
   "id": "3fbacb77",
   "metadata": {},
   "outputs": [],
   "source": [
    "pred  = model.predict(np.expand_dims(train_images[45], axis=0))"
   ]
  },
  {
   "cell_type": "code",
   "execution_count": 26,
   "id": "2d5eba41",
   "metadata": {},
   "outputs": [
    {
     "name": "stdout",
     "output_type": "stream",
     "text": [
      "1\n"
     ]
    }
   ],
   "source": [
    "idx = np.argmax(pred)\n",
    "print(idx)"
   ]
  },
  {
   "cell_type": "code",
   "execution_count": 27,
   "id": "37b3e7b5",
   "metadata": {},
   "outputs": [
    {
     "data": {
      "text/plain": [
       "('automobile', 0.9754851)"
      ]
     },
     "execution_count": 27,
     "metadata": {},
     "output_type": "execute_result"
    }
   ],
   "source": [
    "class_names = ['airplane', 'automobile', 'bird', 'cat', 'deer',\n",
    "               'dog', 'frog', 'horse', 'ship', 'truck']\n",
    "class_names[idx], pred[0][idx]"
   ]
  },
  {
   "cell_type": "code",
   "execution_count": 28,
   "id": "ee96ca36",
   "metadata": {},
   "outputs": [],
   "source": [
    "input_img = np.expand_dims(train_images[45], axis=0)\n",
    "input_img = tf.convert_to_tensor(input_img)"
   ]
  },
  {
   "cell_type": "code",
   "execution_count": 29,
   "id": "d99a5d0e",
   "metadata": {},
   "outputs": [],
   "source": [
    "with tf.GradientTape() as tape:\n",
    "    tape.watch(input_img)\n",
    "    result = model(input_img)\n",
    "    max_score = result[0,idx]\n",
    "grads = tape.gradient(max_score, input_img)\n",
    "# plot_maps(norm_flat_image(grads[0]), norm_flat_image(input_img[0]))"
   ]
  },
  {
   "cell_type": "code",
   "execution_count": 30,
   "id": "e654b013",
   "metadata": {},
   "outputs": [],
   "source": [
    "def norm_flat_image(img):\n",
    "    grads_norm = img[:,:,0]+ img[:,:,1]+ img[:,:,2]\n",
    "    grads_norm = (grads_norm - tf.reduce_min(grads_norm))/ (tf.reduce_max(grads_norm)- tf.reduce_min(grads_norm))\n",
    "    return grads_norm"
   ]
  },
  {
   "cell_type": "code",
   "execution_count": 31,
   "id": "8143e9cd",
   "metadata": {},
   "outputs": [
    {
     "data": {
      "text/plain": [
       "<matplotlib.image.AxesImage at 0x7fb3902fef40>"
      ]
     },
     "execution_count": 31,
     "metadata": {},
     "output_type": "execute_result"
    },
    {
     "data": {
      "image/png": "[encoded data removed]",
      "text/plain": [
       "<Figure size 640x480 with 1 Axes>"
      ]
     },
     "metadata": {},
     "output_type": "display_data"
    }
   ],
   "source": [
    "grads_img = norm_flat_image(grads[0]).numpy()\n",
    "plt.imshow(grads_img, cmap='gray')"
   ]
  },
  {
   "cell_type": "code",
   "execution_count": 32,
   "id": "33d16d21",
   "metadata": {},
   "outputs": [],
   "source": [
    "norm_input_image = norm_flat_image(input_img[0])"
   ]
  },
  {
   "cell_type": "code",
   "execution_count": 33,
   "id": "450dd6c8",
   "metadata": {},
   "outputs": [
    {
     "data": {
      "image/png": "[encoded data removed]",
      "text/plain": [
       "<Figure size 640x480 with 1 Axes>"
      ]
     },
     "metadata": {},
     "output_type": "display_data"
    }
   ],
   "source": [
    "plt.imshow(grads_img*2+norm_input_image/2, cmap=\"gray\")\n",
    "plt.show()"
   ]
  },
  {
   "cell_type": "code",
   "execution_count": 34,
   "id": "372e0faa",
   "metadata": {},
   "outputs": [],
   "source": [
    "def plot_maps(img1, img2,vmin=0.3,vmax=0.7, mix_val=2):\n",
    "    f = plt.figure(figsize=(15,45))\n",
    "    plt.subplot(1,3,1)\n",
    "    plt.imshow(img1,vmin=vmin, vmax=vmax, cmap=\"gray\")\n",
    "    plt.axis(\"off\")\n",
    "    plt.subplot(1,3,2)\n",
    "    plt.imshow(img2, cmap = \"gray\")\n",
    "    plt.axis(\"off\")\n",
    "    plt.subplot(1,3,3)\n",
    "    plt.imshow(img1*mix_val+img2/mix_val, cmap = \"gray\" )\n",
    "    plt.axis(\"off\")"
   ]
  },
  {
   "cell_type": "code",
   "execution_count": 35,
   "id": "08eb4393",
   "metadata": {},
   "outputs": [
    {
     "data": {
      "image/png": "[encoded data removed]",
      "text/plain": [
       "<Figure size 1500x4500 with 3 Axes>"
      ]
     },
     "metadata": {},
     "output_type": "display_data"
    }
   ],
   "source": [
    "plot_maps(grads_img, norm_input_image)"
   ]
  },
  {
   "cell_type": "code",
   "execution_count": null,
   "id": "674fabc1",
   "metadata": {},
   "outputs": [],
   "source": []
  }
 ],
 "metadata": {
  "kernelspec": {
   "display_name": "Python 3 (ipykernel)",
   "language": "python",
   "name": "python3"
  },
  "language_info": {
   "codemirror_mode": {
    "name": "ipython",
    "version": 3
   },
   "file_extension": ".py",
   "mimetype": "text/x-python",
   "name": "python",
   "nbconvert_exporter": "python",
   "pygments_lexer": "ipython3",
   "version": "3.8.10"
  }
 },
 "nbformat": 4,
 "nbformat_minor": 5
}
